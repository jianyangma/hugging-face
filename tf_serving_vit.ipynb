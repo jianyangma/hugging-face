{
  "cells": [
    {
      "cell_type": "markdown",
      "metadata": {
        "id": "z2bwRLGzGQlk"
      },
      "source": [
        "This notebook shows how to deploy a vision model in TensorFlow from 🤗 Transformers with TensorFlow Serving. It uses [this blog post](https://huggingface.co/blog/tf-serving) as a reference. "
      ]
    },
    {
      "cell_type": "markdown",
      "metadata": {
        "id": "pGC5JtQbGktj"
      },
      "source": [
        "## Setup"
      ]
    },
    {
      "cell_type": "code",
      "execution_count": 1,
      "metadata": {
        "colab": {
          "base_uri": "https://localhost:8080/"
        },
        "id": "-kgm_ksCPTkJ",
        "outputId": "3172c329-a49c-4d5c-f2f3-50102493cb82"
      },
      "outputs": [
        {
          "output_type": "stream",
          "name": "stdout",
          "text": [
            "\u001b[K     |████████████████████████████████| 4.7 MB 8.3 MB/s \n",
            "\u001b[K     |████████████████████████████████| 596 kB 51.2 MB/s \n",
            "\u001b[K     |████████████████████████████████| 6.6 MB 53.0 MB/s \n",
            "\u001b[K     |████████████████████████████████| 101 kB 11.1 MB/s \n",
            "\u001b[K     |████████████████████████████████| 511.7 MB 5.6 kB/s \n",
            "\u001b[K     |████████████████████████████████| 5.8 MB 47.4 MB/s \n",
            "\u001b[K     |████████████████████████████████| 1.6 MB 52.8 MB/s \n",
            "\u001b[K     |████████████████████████████████| 438 kB 72.5 MB/s \n",
            "\u001b[?25h"
          ]
        }
      ],
      "source": [
        "!pip install -q transformers\n",
        "!pip install -q tensorflow_serving_api"
      ]
    },
    {
      "cell_type": "markdown",
      "metadata": {
        "id": "Wo-b-LuuGnEK"
      },
      "source": [
        "## Imports"
      ]
    },
    {
      "cell_type": "code",
      "execution_count": 2,
      "metadata": {
        "id": "1cuyr4mcP5Su"
      },
      "outputs": [],
      "source": [
        "from transformers import ViTFeatureExtractor, TFViTForImageClassification\n",
        "import tensorflow as tf\n",
        "import tempfile\n",
        "import requests\n",
        "import base64\n",
        "import json\n",
        "import os"
      ]
    },
    {
      "cell_type": "code",
      "execution_count": 3,
      "metadata": {
        "colab": {
          "base_uri": "https://localhost:8080/"
        },
        "id": "bGCF3EyL92cT",
        "outputId": "43730260-b9e9-490d-a317-42400b02eb64"
      },
      "outputs": [
        {
          "output_type": "stream",
          "name": "stdout",
          "text": [
            "4.21.0\n"
          ]
        }
      ],
      "source": [
        "import transformers\n",
        "\n",
        "print(transformers.__version__)"
      ]
    },
    {
      "cell_type": "markdown",
      "metadata": {
        "id": "jfKdDDqCGpHo"
      },
      "source": [
        "## Save the ViT model and investigate its inputs"
      ]
    },
    {
      "cell_type": "code",
      "execution_count": 4,
      "metadata": {
        "colab": {
          "base_uri": "https://localhost:8080/",
          "height": 226,
          "referenced_widgets": [
            "f86d3568b8694e8aac371cab47459d20",
            "8fa40c78e88b49368f7383860111d88d",
            "5286581d5231462fa971043a1f9066a6",
            "cdbe6b6e4695406bb25de2af8e21739a",
            "75bb11d092dd4634ba79c41268365987",
            "50b8f0eda92b4432864b004ff83bb7d5",
            "7ce64c6d47d04c67876ae36476286299",
            "3a65e0fccd4747378d890ea68dc3e1e4",
            "f29b99d500d6437f8bf82850dd7dbf3b",
            "6330c3ba172546e48d8c07f0400381eb",
            "427693ff111141f8975fee21a2b10628",
            "495150bb191b4fc9b45872f987852f2e",
            "003cdf1011b741109103e362f66b6d0a",
            "5f58578da66344e9827b0bae0f0024c5",
            "7cfc99d5daa34f0a872cc4931d14e42d",
            "7b4e147884b04d0dbc026e4dd90d56e9",
            "b4dc353ce3304133914005a532c6e49d",
            "48990ef328594a259c57f2451a63b7de",
            "94b7da6643d242f489aa30e9ff7ed9b6",
            "ac5ce79d425c4931accc10c290c1d0f5",
            "d5c992533b2d48f79627baca19e3abbe",
            "267759db220c4b93b1042681d897076d"
          ]
        },
        "id": "eqOIWKJfPnDk",
        "outputId": "de768d7b-9eb0-4621-9be9-82313111bfe0"
      },
      "outputs": [
        {
          "output_type": "display_data",
          "data": {
            "text/plain": [
              "Downloading config.json:   0%|          | 0.00/68.0k [00:00<?, ?B/s]"
            ],
            "application/vnd.jupyter.widget-view+json": {
              "version_major": 2,
              "version_minor": 0,
              "model_id": "f86d3568b8694e8aac371cab47459d20"
            }
          },
          "metadata": {}
        },
        {
          "output_type": "display_data",
          "data": {
            "text/plain": [
              "Downloading tf_model.h5:   0%|          | 0.00/330M [00:00<?, ?B/s]"
            ],
            "application/vnd.jupyter.widget-view+json": {
              "version_major": 2,
              "version_minor": 0,
              "model_id": "495150bb191b4fc9b45872f987852f2e"
            }
          },
          "metadata": {}
        },
        {
          "output_type": "stream",
          "name": "stderr",
          "text": [
            "All model checkpoint layers were used when initializing TFViTForImageClassification.\n",
            "\n",
            "All the layers of TFViTForImageClassification were initialized from the model checkpoint at google/vit-base-patch16-224.\n",
            "If your task is similar to the task the model of the checkpoint was trained on, you can already use TFViTForImageClassification for predictions without further training.\n",
            "WARNING:absl:Found untraced functions such as embeddings_layer_call_fn, embeddings_layer_call_and_return_conditional_losses, encoder_layer_call_fn, encoder_layer_call_and_return_conditional_losses, layernorm_layer_call_fn while saving (showing 5 of 421). These functions will not be directly callable after loading.\n"
          ]
        },
        {
          "output_type": "stream",
          "name": "stdout",
          "text": [
            "INFO:tensorflow:Assets written to: vit/saved_model/1/assets\n"
          ]
        },
        {
          "output_type": "stream",
          "name": "stderr",
          "text": [
            "INFO:tensorflow:Assets written to: vit/saved_model/1/assets\n"
          ]
        }
      ],
      "source": [
        "# the saved_model parameter is a flag to create a saved model version of the model\n",
        "temp_model_dir = \"vit\"\n",
        "model = TFViTForImageClassification.from_pretrained(\"google/vit-base-patch16-224\")\n",
        "model.save_pretrained(temp_model_dir, saved_model=True)"
      ]
    },
    {
      "cell_type": "code",
      "execution_count": 5,
      "metadata": {
        "colab": {
          "base_uri": "https://localhost:8080/"
        },
        "id": "fv9VDVBzTzZr",
        "outputId": "d71497a7-905b-4516-eec2-b5cde00c4abb"
      },
      "outputs": [
        {
          "output_type": "stream",
          "name": "stdout",
          "text": [
            "The given SavedModel SignatureDef contains the following input(s):\n",
            "  inputs['pixel_values'] tensor_info:\n",
            "      dtype: DT_FLOAT\n",
            "      shape: (-1, -1, -1, -1)\n",
            "      name: serving_default_pixel_values:0\n",
            "The given SavedModel SignatureDef contains the following output(s):\n",
            "  outputs['logits'] tensor_info:\n",
            "      dtype: DT_FLOAT\n",
            "      shape: (-1, 1000)\n",
            "      name: StatefulPartitionedCall:0\n",
            "Method name is: tensorflow/serving/predict\n"
          ]
        }
      ],
      "source": [
        "!saved_model_cli show --dir {temp_model_dir}/saved_model/1 --tag_set serve --signature_def serving_default"
      ]
    },
    {
      "cell_type": "markdown",
      "metadata": {
        "id": "0567_tMkGvVx"
      },
      "source": [
        "## Save the model embedding pre-processing and post-processing ops"
      ]
    },
    {
      "cell_type": "code",
      "execution_count": 6,
      "metadata": {
        "colab": {
          "base_uri": "https://localhost:8080/"
        },
        "id": "1H-LEF8FP2G8",
        "outputId": "89402623-90ae-4950-d3e5-e5386a51b271"
      },
      "outputs": [
        {
          "output_type": "execute_result",
          "data": {
            "text/plain": [
              "ViTFeatureExtractor {\n",
              "  \"do_normalize\": true,\n",
              "  \"do_resize\": true,\n",
              "  \"feature_extractor_type\": \"ViTFeatureExtractor\",\n",
              "  \"image_mean\": [\n",
              "    0.5,\n",
              "    0.5,\n",
              "    0.5\n",
              "  ],\n",
              "  \"image_std\": [\n",
              "    0.5,\n",
              "    0.5,\n",
              "    0.5\n",
              "  ],\n",
              "  \"resample\": 2,\n",
              "  \"size\": 224\n",
              "}"
            ]
          },
          "metadata": {},
          "execution_count": 6
        }
      ],
      "source": [
        "feature_extractor = ViTFeatureExtractor()\n",
        "feature_extractor"
      ]
    },
    {
      "cell_type": "code",
      "execution_count": 7,
      "metadata": {
        "id": "RvsoVW_0Qb2k"
      },
      "outputs": [],
      "source": [
        "CONCRETE_INPUT = \"pixel_values\"\n",
        "SIZE = feature_extractor.size\n",
        "INPUT_SHAPE = (SIZE, SIZE, 3)"
      ]
    },
    {
      "cell_type": "code",
      "execution_count": 8,
      "metadata": {
        "id": "2YeDe1M5Q5AP"
      },
      "outputs": [],
      "source": [
        "def normalize_img(\n",
        "    img, mean=feature_extractor.image_mean, std=feature_extractor.image_std\n",
        "):\n",
        "    # Scale to the value range of [0, 1] first and then normalize.\n",
        "    img = img / 255\n",
        "    mean = tf.constant(mean)\n",
        "    std = tf.constant(std)\n",
        "    return (img - mean) / std\n",
        "\n",
        "\n",
        "def preprocess(string_input):\n",
        "    decoded_input = tf.io.decode_base64(string_input)\n",
        "    decoded = tf.io.decode_jpeg(decoded_input, channels=3)\n",
        "    resized = tf.image.resize(decoded, size=(SIZE, SIZE))\n",
        "    normalized = normalize_img(resized)\n",
        "    normalized = tf.transpose(\n",
        "        normalized, (2, 0, 1)\n",
        "    )  # Since HF models are channel-first.\n",
        "    return normalized\n",
        "\n",
        "\n",
        "@tf.function(input_signature=[tf.TensorSpec([None], tf.string)])\n",
        "def preprocess_fn(string_input):\n",
        "    decoded_images = tf.map_fn(\n",
        "        preprocess, string_input, dtype=tf.float32, back_prop=False\n",
        "    )\n",
        "    return {CONCRETE_INPUT: decoded_images}\n",
        "\n",
        "\n",
        "def model_exporter(model: tf.keras.Model):\n",
        "    m_call = tf.function(model.call).get_concrete_function(\n",
        "        tf.TensorSpec(\n",
        "            shape=[None, 3, SIZE, SIZE], dtype=tf.float32, name=CONCRETE_INPUT\n",
        "        )\n",
        "    )\n",
        "\n",
        "    @tf.function(input_signature=[tf.TensorSpec([None], tf.string)])\n",
        "    def serving_fn(string_input):\n",
        "        labels = tf.constant(list(model.config.id2label.values()), dtype=tf.string)\n",
        "        images = preprocess_fn(string_input)\n",
        "\n",
        "        predictions = m_call(**images)\n",
        "        indices = tf.argmax(predictions.logits, axis=1)\n",
        "        pred_source = tf.gather(params=labels, indices=indices)\n",
        "        probs = tf.nn.softmax(predictions.logits, axis=1)\n",
        "        pred_confidence = tf.reduce_max(probs, axis=1)\n",
        "        return {\"label\": pred_source, \"confidence\": pred_confidence}\n",
        "\n",
        "    return serving_fn"
      ]
    },
    {
      "cell_type": "markdown",
      "metadata": {
        "id": "J9Xdj_OiF6TG"
      },
      "source": [
        "**Notes on making the model accept string inputs**:\n",
        "\n",
        "When dealing with images via REST or gRPC requests the size of the request payload can easily spiral up depending on the resolution of the images being passed. This is why, it is good practice to compress them reliably and then prepare the request payload."
      ]
    },
    {
      "cell_type": "code",
      "execution_count": 9,
      "metadata": {
        "colab": {
          "base_uri": "https://localhost:8080/"
        },
        "id": "7IGRj3kAS7oZ",
        "outputId": "ddf5c243-80bb-4fd3-c6e2-ecf6edf01d39"
      },
      "outputs": [
        {
          "output_type": "stream",
          "name": "stdout",
          "text": [
            "WARNING:tensorflow:From /usr/local/lib/python3.7/dist-packages/tensorflow/python/autograph/impl/api.py:458: calling map_fn_v2 (from tensorflow.python.ops.map_fn) with back_prop=False is deprecated and will be removed in a future version.\n",
            "Instructions for updating:\n",
            "back_prop=False is deprecated. Consider using tf.stop_gradient instead.\n",
            "Instead of:\n",
            "results = tf.map_fn(fn, elems, back_prop=False)\n",
            "Use:\n",
            "results = tf.nest.map_structure(tf.stop_gradient, tf.map_fn(fn, elems))\n"
          ]
        },
        {
          "output_type": "stream",
          "name": "stderr",
          "text": [
            "WARNING:tensorflow:From /usr/local/lib/python3.7/dist-packages/tensorflow/python/autograph/impl/api.py:458: calling map_fn_v2 (from tensorflow.python.ops.map_fn) with back_prop=False is deprecated and will be removed in a future version.\n",
            "Instructions for updating:\n",
            "back_prop=False is deprecated. Consider using tf.stop_gradient instead.\n",
            "Instead of:\n",
            "results = tf.map_fn(fn, elems, back_prop=False)\n",
            "Use:\n",
            "results = tf.nest.map_structure(tf.stop_gradient, tf.map_fn(fn, elems))\n"
          ]
        },
        {
          "output_type": "stream",
          "name": "stdout",
          "text": [
            "WARNING:tensorflow:From /usr/local/lib/python3.7/dist-packages/tensorflow/python/util/deprecation.py:629: calling map_fn_v2 (from tensorflow.python.ops.map_fn) with dtype is deprecated and will be removed in a future version.\n",
            "Instructions for updating:\n",
            "Use fn_output_signature instead\n"
          ]
        },
        {
          "output_type": "stream",
          "name": "stderr",
          "text": [
            "WARNING:tensorflow:From /usr/local/lib/python3.7/dist-packages/tensorflow/python/util/deprecation.py:629: calling map_fn_v2 (from tensorflow.python.ops.map_fn) with dtype is deprecated and will be removed in a future version.\n",
            "Instructions for updating:\n",
            "Use fn_output_signature instead\n",
            "WARNING:absl:Found untraced functions such as embeddings_layer_call_fn, embeddings_layer_call_and_return_conditional_losses, encoder_layer_call_fn, encoder_layer_call_and_return_conditional_losses, layernorm_layer_call_fn while saving (showing 5 of 421). These functions will not be directly callable after loading.\n"
          ]
        },
        {
          "output_type": "stream",
          "name": "stdout",
          "text": [
            "INFO:tensorflow:Assets written to: /tmp/1/assets\n"
          ]
        },
        {
          "output_type": "stream",
          "name": "stderr",
          "text": [
            "INFO:tensorflow:Assets written to: /tmp/1/assets\n"
          ]
        }
      ],
      "source": [
        "MODEL_DIR = tempfile.gettempdir()\n",
        "VERSION = 1\n",
        "\n",
        "tf.saved_model.save(\n",
        "    model,\n",
        "    os.path.join(MODEL_DIR, str(VERSION)),\n",
        "    signatures={\"serving_default\": model_exporter(model)},\n",
        ")\n",
        "os.environ[\"MODEL_DIR\"] = MODEL_DIR"
      ]
    },
    {
      "cell_type": "markdown",
      "metadata": {
        "id": "_TlzGe8XG1gx"
      },
      "source": [
        "Investigate the `SavedModel` once again. "
      ]
    },
    {
      "cell_type": "code",
      "execution_count": 10,
      "metadata": {
        "colab": {
          "base_uri": "https://localhost:8080/"
        },
        "id": "QXXz4BDkY2A_",
        "outputId": "3feca3bb-47b1-4745-b749-85a56040fdb4"
      },
      "outputs": [
        {
          "output_type": "stream",
          "name": "stdout",
          "text": [
            "The given SavedModel SignatureDef contains the following input(s):\n",
            "  inputs['string_input'] tensor_info:\n",
            "      dtype: DT_STRING\n",
            "      shape: (-1)\n",
            "      name: serving_default_string_input:0\n",
            "The given SavedModel SignatureDef contains the following output(s):\n",
            "  outputs['confidence'] tensor_info:\n",
            "      dtype: DT_FLOAT\n",
            "      shape: (-1)\n",
            "      name: StatefulPartitionedCall:0\n",
            "  outputs['label'] tensor_info:\n",
            "      dtype: DT_STRING\n",
            "      shape: (-1)\n",
            "      name: StatefulPartitionedCall:1\n",
            "Method name is: tensorflow/serving/predict\n"
          ]
        }
      ],
      "source": [
        "!saved_model_cli show --dir {MODEL_DIR}/1 --tag_set serve --signature_def serving_default"
      ]
    },
    {
      "cell_type": "markdown",
      "metadata": {
        "id": "MJU-LJuwG5eC"
      },
      "source": [
        "## Install TensorFlow Model Server"
      ]
    },
    {
      "cell_type": "code",
      "execution_count": 11,
      "metadata": {
        "colab": {
          "base_uri": "https://localhost:8080/"
        },
        "id": "XYgQ9ufJZTV1",
        "outputId": "fe70199a-f9f9-4956-f6eb-c521097c91ac"
      },
      "outputs": [
        {
          "output_type": "stream",
          "name": "stdout",
          "text": [
            "--2022-07-29 15:56:24--  http://storage.googleapis.com/tensorflow-serving-apt/pool/tensorflow-model-server-universal-2.8.0/t/tensorflow-model-server-universal/tensorflow-model-server-universal_2.8.0_all.deb\n",
            "Resolving storage.googleapis.com (storage.googleapis.com)... 74.125.20.128, 108.177.98.128, 74.125.197.128, ...\n",
            "Connecting to storage.googleapis.com (storage.googleapis.com)|74.125.20.128|:80... connected.\n",
            "HTTP request sent, awaiting response... 200 OK\n",
            "Length: 335421916 (320M) [application/x-debian-package]\n",
            "Saving to: ‘tensorflow-model-server-universal_2.8.0_all.deb’\n",
            "\n",
            "tensorflow-model-se 100%[===================>] 319.88M   131MB/s    in 2.4s    \n",
            "\n",
            "2022-07-29 15:56:27 (131 MB/s) - ‘tensorflow-model-server-universal_2.8.0_all.deb’ saved [335421916/335421916]\n",
            "\n",
            "Selecting previously unselected package tensorflow-model-server-universal.\n",
            "(Reading database ... 155653 files and directories currently installed.)\n",
            "Preparing to unpack tensorflow-model-server-universal_2.8.0_all.deb ...\n",
            "Unpacking tensorflow-model-server-universal (2.8.0) ...\n",
            "Setting up tensorflow-model-server-universal (2.8.0) ...\n"
          ]
        }
      ],
      "source": [
        "# Deviates from the original installation instructions.\n",
        "# https://issuemode.com/issues/tensorflow/serving/92945160\n",
        "!wget 'http://storage.googleapis.com/tensorflow-serving-apt/pool/tensorflow-model-server-universal-2.8.0/t/tensorflow-model-server-universal/tensorflow-model-server-universal_2.8.0_all.deb'\n",
        "!dpkg -i tensorflow-model-server-universal_2.8.0_all.deb"
      ]
    },
    {
      "cell_type": "markdown",
      "metadata": {
        "id": "k5m_7XZjG8Qo"
      },
      "source": [
        "## Deploy the model \n",
        "\n",
        "By default TF Serving exposes two APIs: REST and gRPC. We will see how to infer with both. Each has their own pros and cons."
      ]
    },
    {
      "cell_type": "code",
      "execution_count": 12,
      "metadata": {
        "colab": {
          "base_uri": "https://localhost:8080/"
        },
        "id": "be609R85hiik",
        "outputId": "3ebb7afe-f792-4a43-c006-a145aea13911"
      },
      "outputs": [
        {
          "output_type": "stream",
          "name": "stdout",
          "text": [
            "Starting job # 0 in a separate thread.\n"
          ]
        }
      ],
      "source": [
        "%%bash --bg \n",
        "nohup tensorflow_model_server \\\n",
        "  --rest_api_port=8501 \\\n",
        "  --model_name=vit \\\n",
        "  --model_base_path=$MODEL_DIR >server.log 2>&1\n"
      ]
    },
    {
      "cell_type": "code",
      "execution_count": 13,
      "metadata": {
        "colab": {
          "base_uri": "https://localhost:8080/"
        },
        "id": "1r9O1Q_CjJnI",
        "outputId": "901591cf-56c2-4241-955c-237cd0fc85df"
      },
      "outputs": [
        {
          "output_type": "stream",
          "name": "stdout",
          "text": [
            "[warn] getaddrinfo: address family for nodename not supported\n",
            "[evhttp_server.cc : 245] NET_LOG: Entering the event loop ...\n"
          ]
        }
      ],
      "source": [
        "!cat server.log"
      ]
    },
    {
      "cell_type": "code",
      "execution_count": 14,
      "metadata": {
        "colab": {
          "base_uri": "https://localhost:8080/"
        },
        "id": "S1wSLcPwkAuK",
        "outputId": "19f90fe7-db89-4929-e40d-cdd798ef3912"
      },
      "outputs": [
        {
          "output_type": "stream",
          "name": "stdout",
          "text": [
            "node        8 root   21u  IPv6  27301      0t0  TCP *:8080 (LISTEN)\n",
            "colab-fil  29 root    5u  IPv6  27897      0t0  TCP *:3453 (LISTEN)\n",
            "colab-fil  29 root    6u  IPv4  27898      0t0  TCP *:3453 (LISTEN)\n",
            "jupyter-n  54 root    6u  IPv4  27416      0t0  TCP 172.28.0.2:9000 (LISTEN)\n",
            "python3    70 root   15u  IPv4  29119      0t0  TCP 127.0.0.1:42727 (LISTEN)\n",
            "python3    70 root   18u  IPv4  29123      0t0  TCP 127.0.0.1:48705 (LISTEN)\n",
            "python3    70 root   21u  IPv4  29127      0t0  TCP 127.0.0.1:47689 (LISTEN)\n",
            "python3    70 root   24u  IPv4  29131      0t0  TCP 127.0.0.1:44307 (LISTEN)\n",
            "python3    70 root   30u  IPv4  29137      0t0  TCP 127.0.0.1:42805 (LISTEN)\n",
            "python3    70 root   43u  IPv4  28652      0t0  TCP 127.0.0.1:60597 (LISTEN)\n",
            "python3    90 root    3u  IPv4  29923      0t0  TCP 127.0.0.1:17643 (LISTEN)\n",
            "python3    90 root    4u  IPv4  29924      0t0  TCP 127.0.0.1:39263 (LISTEN)\n",
            "python3    90 root    9u  IPv4  29429      0t0  TCP 127.0.0.1:41705 (LISTEN)\n",
            "tensorflo 285 root    5u  IPv4  92417      0t0  TCP *:8500 (LISTEN)\n",
            "tensorflo 285 root   12u  IPv4  92425      0t0  TCP *:8501 (LISTEN)\n"
          ]
        }
      ],
      "source": [
        "!sudo lsof -i -P -n | grep LISTEN"
      ]
    },
    {
      "cell_type": "markdown",
      "metadata": {
        "id": "aXJLcpoYke-d"
      },
      "source": [
        "## REST API"
      ]
    },
    {
      "cell_type": "code",
      "execution_count": 15,
      "metadata": {
        "colab": {
          "base_uri": "https://localhost:8080/"
        },
        "id": "JhG4DRPakf5D",
        "outputId": "75894b13-9be0-4590-80d5-91f5470f5b60"
      },
      "outputs": [
        {
          "output_type": "stream",
          "name": "stdout",
          "text": [
            "Downloading data from http://images.cocodataset.org/val2017/000000039769.jpg\n",
            "173131/173131 [==============================] - 0s 1us/step\n",
            "Data: {\"signature_name\": \"serving_default\", \"instances\": ... TRmYgEHbbrYWv0A6b4o2n1HZgYLq91nP-o7O2pcNa6r__2Q==\"]}\n"
          ]
        }
      ],
      "source": [
        "image_path = tf.keras.utils.get_file(\n",
        "    \"image.jpg\", \"http://images.cocodataset.org/val2017/000000039769.jpg\"\n",
        ")\n",
        "bytes_inputs = tf.io.read_file(image_path)\n",
        "b64str = base64.urlsafe_b64encode(bytes_inputs.numpy()).decode(\"utf-8\")\n",
        "\n",
        "data = json.dumps({\"signature_name\": \"serving_default\", \"instances\": [b64str]})\n",
        "print(\"Data: {} ... {}\".format(data[:50], data[len(data) - 52 :]))"
      ]
    },
    {
      "cell_type": "code",
      "execution_count": 16,
      "metadata": {
        "colab": {
          "base_uri": "https://localhost:8080/"
        },
        "id": "vrqZA1Qylv_D",
        "outputId": "78a94906-41b4-4bff-8609-8e22ff77ca79"
      },
      "outputs": [
        {
          "output_type": "stream",
          "name": "stdout",
          "text": [
            "{'predictions': [{'confidence': 0.896659195, 'label': 'Egyptian cat'}]}\n"
          ]
        }
      ],
      "source": [
        "headers = {\"content-type\": \"application/json\"}\n",
        "json_response = requests.post(\n",
        "    \"http://localhost:8501/v1/models/vit:predict\", data=data, headers=headers\n",
        ")\n",
        "print(json.loads(json_response.text))"
      ]
    },
    {
      "cell_type": "markdown",
      "metadata": {
        "id": "_-yy3u3kmNQO"
      },
      "source": [
        "## gRPC "
      ]
    },
    {
      "cell_type": "code",
      "execution_count": 17,
      "metadata": {
        "id": "f7gAQSo6EdKi"
      },
      "outputs": [],
      "source": [
        "import grpc\n",
        "from tensorflow_serving.apis import predict_pb2\n",
        "from tensorflow_serving.apis import prediction_service_pb2_grpc"
      ]
    },
    {
      "cell_type": "code",
      "execution_count": 18,
      "metadata": {
        "id": "qlArzjKvEZ3N"
      },
      "outputs": [],
      "source": [
        "channel = grpc.insecure_channel(\"localhost:8500\")\n",
        "stub = prediction_service_pb2_grpc.PredictionServiceStub(channel)"
      ]
    },
    {
      "cell_type": "code",
      "execution_count": 19,
      "metadata": {
        "colab": {
          "base_uri": "https://localhost:8080/"
        },
        "id": "VOU72ENGE1Xq",
        "outputId": "8b15cd62-b4cc-4a71-969f-225a7343c8df"
      },
      "outputs": [
        {
          "output_type": "stream",
          "name": "stdout",
          "text": [
            "Serving function input: string_input\n"
          ]
        }
      ],
      "source": [
        "loaded = tf.saved_model.load(f\"{MODEL_DIR}/{VERSION}\")\n",
        "serving_input = list(\n",
        "    loaded.signatures[\"serving_default\"].structured_input_signature[1].keys()\n",
        ")[0]\n",
        "print(\"Serving function input:\", serving_input)"
      ]
    },
    {
      "cell_type": "code",
      "execution_count": 20,
      "metadata": {
        "id": "jBloKw6REfTq"
      },
      "outputs": [],
      "source": [
        "request = predict_pb2.PredictRequest()\n",
        "request.model_spec.name = \"vit\"\n",
        "request.model_spec.signature_name = \"serving_default\"\n",
        "request.inputs[serving_input].CopyFrom(tf.make_tensor_proto([b64str]))"
      ]
    },
    {
      "cell_type": "code",
      "execution_count": 21,
      "metadata": {
        "colab": {
          "base_uri": "https://localhost:8080/"
        },
        "id": "mMRC_qp8FNtT",
        "outputId": "fac50fb4-0119-4f70-8920-7bafca713784"
      },
      "outputs": [
        {
          "output_type": "stream",
          "name": "stdout",
          "text": [
            "outputs {\n",
            "  key: \"confidence\"\n",
            "  value {\n",
            "    dtype: DT_FLOAT\n",
            "    tensor_shape {\n",
            "      dim {\n",
            "        size: 1\n",
            "      }\n",
            "    }\n",
            "    float_val: 0.8966591954231262\n",
            "  }\n",
            "}\n",
            "outputs {\n",
            "  key: \"label\"\n",
            "  value {\n",
            "    dtype: DT_STRING\n",
            "    tensor_shape {\n",
            "      dim {\n",
            "        size: 1\n",
            "      }\n",
            "    }\n",
            "    string_val: \"Egyptian cat\"\n",
            "  }\n",
            "}\n",
            "model_spec {\n",
            "  name: \"vit\"\n",
            "  version {\n",
            "    value: 1\n",
            "  }\n",
            "  signature_name: \"serving_default\"\n",
            "}\n",
            "\n"
          ]
        }
      ],
      "source": [
        "grpc_predictions = stub.Predict(request, 10.0)  # 10 secs timeout\n",
        "print(grpc_predictions)"
      ]
    },
    {
      "cell_type": "code",
      "execution_count": null,
      "metadata": {
        "colab": {
          "base_uri": "https://localhost:8080/"
        },
        "id": "lEpEU508Fj3G",
        "outputId": "5d635b49-33ed-449b-fd65-4223274f53f5"
      },
      "outputs": [
        {
          "data": {
            "text/plain": [
              "([b'Egyptian cat'], [0.8966591954231262])"
            ]
          },
          "execution_count": 36,
          "metadata": {},
          "output_type": "execute_result"
        }
      ],
      "source": [
        "grpc_predictions.outputs[\"label\"].string_val, grpc_predictions.outputs[\n",
        "    \"confidence\"\n",
        "].float_val"
      ]
    },
    {
      "cell_type": "markdown",
      "metadata": {
        "id": "YYIcV9BsHGy-"
      },
      "source": [
        "## Next steps\n",
        "\n",
        "* Deploy the SavedModel to Vertex AI \n",
        "* Deploy with TF Serving + Kubernetes (via GKE)"
      ]
    }
  ],
  "metadata": {
    "colab": {
      "collapsed_sections": [],
      "name": "hf-vision-model-tfserving.ipynb",
      "provenance": []
    },
    "gpuClass": "standard",
    "kernelspec": {
      "display_name": "Python 3 (ipykernel)",
      "language": "python",
      "name": "python3"
    },
    "language_info": {
      "codemirror_mode": {
        "name": "ipython",
        "version": 3
      },
      "file_extension": ".py",
      "mimetype": "text/x-python",
      "name": "python",
      "nbconvert_exporter": "python",
      "pygments_lexer": "ipython3",
      "version": "3.8.2"
    },
    "widgets": {
      "application/vnd.jupyter.widget-state+json": {
        "f86d3568b8694e8aac371cab47459d20": {
          "model_module": "@jupyter-widgets/controls",
          "model_name": "HBoxModel",
          "model_module_version": "1.5.0",
          "state": {
            "_dom_classes": [],
            "_model_module": "@jupyter-widgets/controls",
            "_model_module_version": "1.5.0",
            "_model_name": "HBoxModel",
            "_view_count": null,
            "_view_module": "@jupyter-widgets/controls",
            "_view_module_version": "1.5.0",
            "_view_name": "HBoxView",
            "box_style": "",
            "children": [
              "IPY_MODEL_8fa40c78e88b49368f7383860111d88d",
              "IPY_MODEL_5286581d5231462fa971043a1f9066a6",
              "IPY_MODEL_cdbe6b6e4695406bb25de2af8e21739a"
            ],
            "layout": "IPY_MODEL_75bb11d092dd4634ba79c41268365987"
          }
        },
        "8fa40c78e88b49368f7383860111d88d": {
          "model_module": "@jupyter-widgets/controls",
          "model_name": "HTMLModel",
          "model_module_version": "1.5.0",
          "state": {
            "_dom_classes": [],
            "_model_module": "@jupyter-widgets/controls",
            "_model_module_version": "1.5.0",
            "_model_name": "HTMLModel",
            "_view_count": null,
            "_view_module": "@jupyter-widgets/controls",
            "_view_module_version": "1.5.0",
            "_view_name": "HTMLView",
            "description": "",
            "description_tooltip": null,
            "layout": "IPY_MODEL_50b8f0eda92b4432864b004ff83bb7d5",
            "placeholder": "​",
            "style": "IPY_MODEL_7ce64c6d47d04c67876ae36476286299",
            "value": "Downloading config.json: 100%"
          }
        },
        "5286581d5231462fa971043a1f9066a6": {
          "model_module": "@jupyter-widgets/controls",
          "model_name": "FloatProgressModel",
          "model_module_version": "1.5.0",
          "state": {
            "_dom_classes": [],
            "_model_module": "@jupyter-widgets/controls",
            "_model_module_version": "1.5.0",
            "_model_name": "FloatProgressModel",
            "_view_count": null,
            "_view_module": "@jupyter-widgets/controls",
            "_view_module_version": "1.5.0",
            "_view_name": "ProgressView",
            "bar_style": "success",
            "description": "",
            "description_tooltip": null,
            "layout": "IPY_MODEL_3a65e0fccd4747378d890ea68dc3e1e4",
            "max": 69665,
            "min": 0,
            "orientation": "horizontal",
            "style": "IPY_MODEL_f29b99d500d6437f8bf82850dd7dbf3b",
            "value": 69665
          }
        },
        "cdbe6b6e4695406bb25de2af8e21739a": {
          "model_module": "@jupyter-widgets/controls",
          "model_name": "HTMLModel",
          "model_module_version": "1.5.0",
          "state": {
            "_dom_classes": [],
            "_model_module": "@jupyter-widgets/controls",
            "_model_module_version": "1.5.0",
            "_model_name": "HTMLModel",
            "_view_count": null,
            "_view_module": "@jupyter-widgets/controls",
            "_view_module_version": "1.5.0",
            "_view_name": "HTMLView",
            "description": "",
            "description_tooltip": null,
            "layout": "IPY_MODEL_6330c3ba172546e48d8c07f0400381eb",
            "placeholder": "​",
            "style": "IPY_MODEL_427693ff111141f8975fee21a2b10628",
            "value": " 68.0k/68.0k [00:00&lt;00:00, 333kB/s]"
          }
        },
        "75bb11d092dd4634ba79c41268365987": {
          "model_module": "@jupyter-widgets/base",
          "model_name": "LayoutModel",
          "model_module_version": "1.2.0",
          "state": {
            "_model_module": "@jupyter-widgets/base",
            "_model_module_version": "1.2.0",
            "_model_name": "LayoutModel",
            "_view_count": null,
            "_view_module": "@jupyter-widgets/base",
            "_view_module_version": "1.2.0",
            "_view_name": "LayoutView",
            "align_content": null,
            "align_items": null,
            "align_self": null,
            "border": null,
            "bottom": null,
            "display": null,
            "flex": null,
            "flex_flow": null,
            "grid_area": null,
            "grid_auto_columns": null,
            "grid_auto_flow": null,
            "grid_auto_rows": null,
            "grid_column": null,
            "grid_gap": null,
            "grid_row": null,
            "grid_template_areas": null,
            "grid_template_columns": null,
            "grid_template_rows": null,
            "height": null,
            "justify_content": null,
            "justify_items": null,
            "left": null,
            "margin": null,
            "max_height": null,
            "max_width": null,
            "min_height": null,
            "min_width": null,
            "object_fit": null,
            "object_position": null,
            "order": null,
            "overflow": null,
            "overflow_x": null,
            "overflow_y": null,
            "padding": null,
            "right": null,
            "top": null,
            "visibility": null,
            "width": null
          }
        },
        "50b8f0eda92b4432864b004ff83bb7d5": {
          "model_module": "@jupyter-widgets/base",
          "model_name": "LayoutModel",
          "model_module_version": "1.2.0",
          "state": {
            "_model_module": "@jupyter-widgets/base",
            "_model_module_version": "1.2.0",
            "_model_name": "LayoutModel",
            "_view_count": null,
            "_view_module": "@jupyter-widgets/base",
            "_view_module_version": "1.2.0",
            "_view_name": "LayoutView",
            "align_content": null,
            "align_items": null,
            "align_self": null,
            "border": null,
            "bottom": null,
            "display": null,
            "flex": null,
            "flex_flow": null,
            "grid_area": null,
            "grid_auto_columns": null,
            "grid_auto_flow": null,
            "grid_auto_rows": null,
            "grid_column": null,
            "grid_gap": null,
            "grid_row": null,
            "grid_template_areas": null,
            "grid_template_columns": null,
            "grid_template_rows": null,
            "height": null,
            "justify_content": null,
            "justify_items": null,
            "left": null,
            "margin": null,
            "max_height": null,
            "max_width": null,
            "min_height": null,
            "min_width": null,
            "object_fit": null,
            "object_position": null,
            "order": null,
            "overflow": null,
            "overflow_x": null,
            "overflow_y": null,
            "padding": null,
            "right": null,
            "top": null,
            "visibility": null,
            "width": null
          }
        },
        "7ce64c6d47d04c67876ae36476286299": {
          "model_module": "@jupyter-widgets/controls",
          "model_name": "DescriptionStyleModel",
          "model_module_version": "1.5.0",
          "state": {
            "_model_module": "@jupyter-widgets/controls",
            "_model_module_version": "1.5.0",
            "_model_name": "DescriptionStyleModel",
            "_view_count": null,
            "_view_module": "@jupyter-widgets/base",
            "_view_module_version": "1.2.0",
            "_view_name": "StyleView",
            "description_width": ""
          }
        },
        "3a65e0fccd4747378d890ea68dc3e1e4": {
          "model_module": "@jupyter-widgets/base",
          "model_name": "LayoutModel",
          "model_module_version": "1.2.0",
          "state": {
            "_model_module": "@jupyter-widgets/base",
            "_model_module_version": "1.2.0",
            "_model_name": "LayoutModel",
            "_view_count": null,
            "_view_module": "@jupyter-widgets/base",
            "_view_module_version": "1.2.0",
            "_view_name": "LayoutView",
            "align_content": null,
            "align_items": null,
            "align_self": null,
            "border": null,
            "bottom": null,
            "display": null,
            "flex": null,
            "flex_flow": null,
            "grid_area": null,
            "grid_auto_columns": null,
            "grid_auto_flow": null,
            "grid_auto_rows": null,
            "grid_column": null,
            "grid_gap": null,
            "grid_row": null,
            "grid_template_areas": null,
            "grid_template_columns": null,
            "grid_template_rows": null,
            "height": null,
            "justify_content": null,
            "justify_items": null,
            "left": null,
            "margin": null,
            "max_height": null,
            "max_width": null,
            "min_height": null,
            "min_width": null,
            "object_fit": null,
            "object_position": null,
            "order": null,
            "overflow": null,
            "overflow_x": null,
            "overflow_y": null,
            "padding": null,
            "right": null,
            "top": null,
            "visibility": null,
            "width": null
          }
        },
        "f29b99d500d6437f8bf82850dd7dbf3b": {
          "model_module": "@jupyter-widgets/controls",
          "model_name": "ProgressStyleModel",
          "model_module_version": "1.5.0",
          "state": {
            "_model_module": "@jupyter-widgets/controls",
            "_model_module_version": "1.5.0",
            "_model_name": "ProgressStyleModel",
            "_view_count": null,
            "_view_module": "@jupyter-widgets/base",
            "_view_module_version": "1.2.0",
            "_view_name": "StyleView",
            "bar_color": null,
            "description_width": ""
          }
        },
        "6330c3ba172546e48d8c07f0400381eb": {
          "model_module": "@jupyter-widgets/base",
          "model_name": "LayoutModel",
          "model_module_version": "1.2.0",
          "state": {
            "_model_module": "@jupyter-widgets/base",
            "_model_module_version": "1.2.0",
            "_model_name": "LayoutModel",
            "_view_count": null,
            "_view_module": "@jupyter-widgets/base",
            "_view_module_version": "1.2.0",
            "_view_name": "LayoutView",
            "align_content": null,
            "align_items": null,
            "align_self": null,
            "border": null,
            "bottom": null,
            "display": null,
            "flex": null,
            "flex_flow": null,
            "grid_area": null,
            "grid_auto_columns": null,
            "grid_auto_flow": null,
            "grid_auto_rows": null,
            "grid_column": null,
            "grid_gap": null,
            "grid_row": null,
            "grid_template_areas": null,
            "grid_template_columns": null,
            "grid_template_rows": null,
            "height": null,
            "justify_content": null,
            "justify_items": null,
            "left": null,
            "margin": null,
            "max_height": null,
            "max_width": null,
            "min_height": null,
            "min_width": null,
            "object_fit": null,
            "object_position": null,
            "order": null,
            "overflow": null,
            "overflow_x": null,
            "overflow_y": null,
            "padding": null,
            "right": null,
            "top": null,
            "visibility": null,
            "width": null
          }
        },
        "427693ff111141f8975fee21a2b10628": {
          "model_module": "@jupyter-widgets/controls",
          "model_name": "DescriptionStyleModel",
          "model_module_version": "1.5.0",
          "state": {
            "_model_module": "@jupyter-widgets/controls",
            "_model_module_version": "1.5.0",
            "_model_name": "DescriptionStyleModel",
            "_view_count": null,
            "_view_module": "@jupyter-widgets/base",
            "_view_module_version": "1.2.0",
            "_view_name": "StyleView",
            "description_width": ""
          }
        },
        "495150bb191b4fc9b45872f987852f2e": {
          "model_module": "@jupyter-widgets/controls",
          "model_name": "HBoxModel",
          "model_module_version": "1.5.0",
          "state": {
            "_dom_classes": [],
            "_model_module": "@jupyter-widgets/controls",
            "_model_module_version": "1.5.0",
            "_model_name": "HBoxModel",
            "_view_count": null,
            "_view_module": "@jupyter-widgets/controls",
            "_view_module_version": "1.5.0",
            "_view_name": "HBoxView",
            "box_style": "",
            "children": [
              "IPY_MODEL_003cdf1011b741109103e362f66b6d0a",
              "IPY_MODEL_5f58578da66344e9827b0bae0f0024c5",
              "IPY_MODEL_7cfc99d5daa34f0a872cc4931d14e42d"
            ],
            "layout": "IPY_MODEL_7b4e147884b04d0dbc026e4dd90d56e9"
          }
        },
        "003cdf1011b741109103e362f66b6d0a": {
          "model_module": "@jupyter-widgets/controls",
          "model_name": "HTMLModel",
          "model_module_version": "1.5.0",
          "state": {
            "_dom_classes": [],
            "_model_module": "@jupyter-widgets/controls",
            "_model_module_version": "1.5.0",
            "_model_name": "HTMLModel",
            "_view_count": null,
            "_view_module": "@jupyter-widgets/controls",
            "_view_module_version": "1.5.0",
            "_view_name": "HTMLView",
            "description": "",
            "description_tooltip": null,
            "layout": "IPY_MODEL_b4dc353ce3304133914005a532c6e49d",
            "placeholder": "​",
            "style": "IPY_MODEL_48990ef328594a259c57f2451a63b7de",
            "value": "Downloading tf_model.h5: 100%"
          }
        },
        "5f58578da66344e9827b0bae0f0024c5": {
          "model_module": "@jupyter-widgets/controls",
          "model_name": "FloatProgressModel",
          "model_module_version": "1.5.0",
          "state": {
            "_dom_classes": [],
            "_model_module": "@jupyter-widgets/controls",
            "_model_module_version": "1.5.0",
            "_model_name": "FloatProgressModel",
            "_view_count": null,
            "_view_module": "@jupyter-widgets/controls",
            "_view_module_version": "1.5.0",
            "_view_name": "ProgressView",
            "bar_style": "success",
            "description": "",
            "description_tooltip": null,
            "layout": "IPY_MODEL_94b7da6643d242f489aa30e9ff7ed9b6",
            "max": 346537664,
            "min": 0,
            "orientation": "horizontal",
            "style": "IPY_MODEL_ac5ce79d425c4931accc10c290c1d0f5",
            "value": 346537664
          }
        },
        "7cfc99d5daa34f0a872cc4931d14e42d": {
          "model_module": "@jupyter-widgets/controls",
          "model_name": "HTMLModel",
          "model_module_version": "1.5.0",
          "state": {
            "_dom_classes": [],
            "_model_module": "@jupyter-widgets/controls",
            "_model_module_version": "1.5.0",
            "_model_name": "HTMLModel",
            "_view_count": null,
            "_view_module": "@jupyter-widgets/controls",
            "_view_module_version": "1.5.0",
            "_view_name": "HTMLView",
            "description": "",
            "description_tooltip": null,
            "layout": "IPY_MODEL_d5c992533b2d48f79627baca19e3abbe",
            "placeholder": "​",
            "style": "IPY_MODEL_267759db220c4b93b1042681d897076d",
            "value": " 330M/330M [00:06&lt;00:00, 56.7MB/s]"
          }
        },
        "7b4e147884b04d0dbc026e4dd90d56e9": {
          "model_module": "@jupyter-widgets/base",
          "model_name": "LayoutModel",
          "model_module_version": "1.2.0",
          "state": {
            "_model_module": "@jupyter-widgets/base",
            "_model_module_version": "1.2.0",
            "_model_name": "LayoutModel",
            "_view_count": null,
            "_view_module": "@jupyter-widgets/base",
            "_view_module_version": "1.2.0",
            "_view_name": "LayoutView",
            "align_content": null,
            "align_items": null,
            "align_self": null,
            "border": null,
            "bottom": null,
            "display": null,
            "flex": null,
            "flex_flow": null,
            "grid_area": null,
            "grid_auto_columns": null,
            "grid_auto_flow": null,
            "grid_auto_rows": null,
            "grid_column": null,
            "grid_gap": null,
            "grid_row": null,
            "grid_template_areas": null,
            "grid_template_columns": null,
            "grid_template_rows": null,
            "height": null,
            "justify_content": null,
            "justify_items": null,
            "left": null,
            "margin": null,
            "max_height": null,
            "max_width": null,
            "min_height": null,
            "min_width": null,
            "object_fit": null,
            "object_position": null,
            "order": null,
            "overflow": null,
            "overflow_x": null,
            "overflow_y": null,
            "padding": null,
            "right": null,
            "top": null,
            "visibility": null,
            "width": null
          }
        },
        "b4dc353ce3304133914005a532c6e49d": {
          "model_module": "@jupyter-widgets/base",
          "model_name": "LayoutModel",
          "model_module_version": "1.2.0",
          "state": {
            "_model_module": "@jupyter-widgets/base",
            "_model_module_version": "1.2.0",
            "_model_name": "LayoutModel",
            "_view_count": null,
            "_view_module": "@jupyter-widgets/base",
            "_view_module_version": "1.2.0",
            "_view_name": "LayoutView",
            "align_content": null,
            "align_items": null,
            "align_self": null,
            "border": null,
            "bottom": null,
            "display": null,
            "flex": null,
            "flex_flow": null,
            "grid_area": null,
            "grid_auto_columns": null,
            "grid_auto_flow": null,
            "grid_auto_rows": null,
            "grid_column": null,
            "grid_gap": null,
            "grid_row": null,
            "grid_template_areas": null,
            "grid_template_columns": null,
            "grid_template_rows": null,
            "height": null,
            "justify_content": null,
            "justify_items": null,
            "left": null,
            "margin": null,
            "max_height": null,
            "max_width": null,
            "min_height": null,
            "min_width": null,
            "object_fit": null,
            "object_position": null,
            "order": null,
            "overflow": null,
            "overflow_x": null,
            "overflow_y": null,
            "padding": null,
            "right": null,
            "top": null,
            "visibility": null,
            "width": null
          }
        },
        "48990ef328594a259c57f2451a63b7de": {
          "model_module": "@jupyter-widgets/controls",
          "model_name": "DescriptionStyleModel",
          "model_module_version": "1.5.0",
          "state": {
            "_model_module": "@jupyter-widgets/controls",
            "_model_module_version": "1.5.0",
            "_model_name": "DescriptionStyleModel",
            "_view_count": null,
            "_view_module": "@jupyter-widgets/base",
            "_view_module_version": "1.2.0",
            "_view_name": "StyleView",
            "description_width": ""
          }
        },
        "94b7da6643d242f489aa30e9ff7ed9b6": {
          "model_module": "@jupyter-widgets/base",
          "model_name": "LayoutModel",
          "model_module_version": "1.2.0",
          "state": {
            "_model_module": "@jupyter-widgets/base",
            "_model_module_version": "1.2.0",
            "_model_name": "LayoutModel",
            "_view_count": null,
            "_view_module": "@jupyter-widgets/base",
            "_view_module_version": "1.2.0",
            "_view_name": "LayoutView",
            "align_content": null,
            "align_items": null,
            "align_self": null,
            "border": null,
            "bottom": null,
            "display": null,
            "flex": null,
            "flex_flow": null,
            "grid_area": null,
            "grid_auto_columns": null,
            "grid_auto_flow": null,
            "grid_auto_rows": null,
            "grid_column": null,
            "grid_gap": null,
            "grid_row": null,
            "grid_template_areas": null,
            "grid_template_columns": null,
            "grid_template_rows": null,
            "height": null,
            "justify_content": null,
            "justify_items": null,
            "left": null,
            "margin": null,
            "max_height": null,
            "max_width": null,
            "min_height": null,
            "min_width": null,
            "object_fit": null,
            "object_position": null,
            "order": null,
            "overflow": null,
            "overflow_x": null,
            "overflow_y": null,
            "padding": null,
            "right": null,
            "top": null,
            "visibility": null,
            "width": null
          }
        },
        "ac5ce79d425c4931accc10c290c1d0f5": {
          "model_module": "@jupyter-widgets/controls",
          "model_name": "ProgressStyleModel",
          "model_module_version": "1.5.0",
          "state": {
            "_model_module": "@jupyter-widgets/controls",
            "_model_module_version": "1.5.0",
            "_model_name": "ProgressStyleModel",
            "_view_count": null,
            "_view_module": "@jupyter-widgets/base",
            "_view_module_version": "1.2.0",
            "_view_name": "StyleView",
            "bar_color": null,
            "description_width": ""
          }
        },
        "d5c992533b2d48f79627baca19e3abbe": {
          "model_module": "@jupyter-widgets/base",
          "model_name": "LayoutModel",
          "model_module_version": "1.2.0",
          "state": {
            "_model_module": "@jupyter-widgets/base",
            "_model_module_version": "1.2.0",
            "_model_name": "LayoutModel",
            "_view_count": null,
            "_view_module": "@jupyter-widgets/base",
            "_view_module_version": "1.2.0",
            "_view_name": "LayoutView",
            "align_content": null,
            "align_items": null,
            "align_self": null,
            "border": null,
            "bottom": null,
            "display": null,
            "flex": null,
            "flex_flow": null,
            "grid_area": null,
            "grid_auto_columns": null,
            "grid_auto_flow": null,
            "grid_auto_rows": null,
            "grid_column": null,
            "grid_gap": null,
            "grid_row": null,
            "grid_template_areas": null,
            "grid_template_columns": null,
            "grid_template_rows": null,
            "height": null,
            "justify_content": null,
            "justify_items": null,
            "left": null,
            "margin": null,
            "max_height": null,
            "max_width": null,
            "min_height": null,
            "min_width": null,
            "object_fit": null,
            "object_position": null,
            "order": null,
            "overflow": null,
            "overflow_x": null,
            "overflow_y": null,
            "padding": null,
            "right": null,
            "top": null,
            "visibility": null,
            "width": null
          }
        },
        "267759db220c4b93b1042681d897076d": {
          "model_module": "@jupyter-widgets/controls",
          "model_name": "DescriptionStyleModel",
          "model_module_version": "1.5.0",
          "state": {
            "_model_module": "@jupyter-widgets/controls",
            "_model_module_version": "1.5.0",
            "_model_name": "DescriptionStyleModel",
            "_view_count": null,
            "_view_module": "@jupyter-widgets/base",
            "_view_module_version": "1.2.0",
            "_view_name": "StyleView",
            "description_width": ""
          }
        }
      }
    },
    "accelerator": "GPU"
  },
  "nbformat": 4,
  "nbformat_minor": 0
}